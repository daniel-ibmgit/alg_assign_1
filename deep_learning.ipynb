{
 "cells": [
  {
   "cell_type": "code",
   "execution_count": 1,
   "metadata": {},
   "outputs": [
    {
     "name": "stdout",
     "output_type": "stream",
     "text": [
      "7.7.1\n"
     ]
    }
   ],
   "source": [
    "import praw\n",
    "print(praw.__version__)"
   ]
  },
  {
   "cell_type": "code",
   "execution_count": 2,
   "metadata": {},
   "outputs": [],
   "source": [
    "reddit = praw.Reddit(client_id=\"lmuLPCLWosrnq6yPwbvrgw\",\n",
    "                     client_secret=\"OOAaV5exVjPDHLt_LG8QuVVZ7SxP7g\",\n",
    "                     redirect_url =\"http://localhost:8080\",\n",
    "                     user_agent = \"danielbyiringiro\")"
   ]
  },
  {
   "cell_type": "code",
   "execution_count": 3,
   "metadata": {},
   "outputs": [
    {
     "name": "stdout",
     "output_type": "stream",
     "text": [
      "[ Removed by Reddit ]\n",
      "Training Deep NN be like\n",
      "Exploring MNIST Latent Space\n",
      "Taking code from GitHub and running on your data\n",
      "Holy crap! Some guy shouted “Machine learning is just statistics!” and then this happened\n",
      "I work with models\n",
      "The truth 💯! 😂\n",
      "It happens 😜\n",
      "[ Removed by Reddit ]\n",
      "😂\n",
      "The merits of having many monitors\n",
      "GANs\n",
      "a wild course of action.\n",
      "\"I've never met this man in my life\"\n",
      "Google datasets search\n",
      "signal/noise ratio\n",
      "What's the new thing is he talking about?\n",
      "Nature is healing\n",
      "Andrew be like\n",
      "Feast on my tears folks\n",
      "It's been a decade\n",
      "*Pro Tip* : When you do a task by hand, you can technically say that you trained neural nets to do it.\n",
      "When your machine learning algorithm doesn't generalise well on real data\n",
      "Deep Learning\n",
      "(DataScienceHumor) Me while reading a research paper!\n",
      "Visualisation of each layer of a feed forward neural network as it learns from a dataset (regression)\n",
      "(Data Science Humour) I've found this to be really accurate. Making something from scratch and then moving on to libraries is the best way to learn.\n",
      "How to confuse machine learning\n",
      "Deepfakes video from #TheOffice. Creeped out max.\n",
      "Taking a walk after thinking deeply about CNNs\n",
      "GAN trained on instagram models\n",
      "The devotion is real\n",
      "Performing NERF scenes reconstruction using only the eye reflection\n",
      "Putting those 175B parameters to good use.\n",
      "Pondering torch vs TF - change my mind!\n",
      "I just started out guys, wish me luck\n",
      "PyTorch implementation of AnimeGANv2\n",
      "Meta’s LLaMa weights leaked on torrent... and the best thing about it is someone put up a PR to replace the google form in the repo with it 😂\n",
      "Coursera Staff:If you want Andrew Ng to come out and teach the reinforcement learning? Vote this one\n",
      "Deep Learning with Keras Cheatsheet\n",
      "Real time 3D reconstruction with SimpleRecon\n",
      "Samsung AI lab develops tech that can animate highly realistic heads using only a few -or in some cases - only one starter image. (Paper: https://arxiv.org/abs/1905.08233)\n",
      "What do you wish for?\n",
      "Street Murals start singing thanks to Deepfake\n",
      "Van Gogh in video - Neural Style Transfer\n",
      "Sequence-Based Neural Nets Be Like\n",
      "Controlnet Face Model Test\n",
      "These Tits Do Not Exist\n",
      "the biggest risk with generative AI is not its potential for misinformation but cringe.\n",
      "Angle Tracking for Football using Python and Mediapipe\n",
      "Project: Real Time Recognition of Handwritten Math Functions and Predicting their Graphs using Machine Learning & Computer Vision\n",
      "Long Short Term Memory Visualized\n",
      "Quick art by Nvidia GauGAN, this is the mountain in my dream [Site: http://52.12.58.174]\n",
      "PyTorch or die\n",
      "Happy Valentine's Day my dudes :). May we all find our global minima <3 <3\n",
      "[Tutorial] Converting old footage to 4K + 60fps + colorized with AI\n",
      "TikTok New anime filter\n",
      "Rendering 3D objects using differentiable SDFs\n",
      "Ready to run a few models here - 4x TITAN RTX Water cooling build\n",
      "Image & Video Background Removal Using Deep Learning\n",
      "Real-time fingerspelling recognition from RGB camera finally exists !\n",
      "GOOGLE researchers create animated avatars from a single photo\n",
      "Tutorial: Real-time YOLOv3 on a Laptop Using Sparse Quantization\n",
      "GPT-3 Generated Rap Battle between Yann LeCun & Gary Marcus\n",
      "This is how a simplest neural network learns. read the first comment for further details\n",
      "My notes for deeplearing.ai and fast.ai courses\n",
      "I reviewed that boy.\n",
      "I made a flow chart on how to train deep neural networks. What do you think about it?\n",
      "After 3 years of doing Deep Learning, I sometimes still get this nightmare graph? Am I alone or someone else out here feels my pain? ( P.S This was a language generation model.)\n",
      "Does anyone here use newer or custom frameworks aside from TensorFlow, Keras and PyTorch?\n",
      "Quacks Like A Deep Fake\n",
      "Learning to generate line drawings that convey geometry and semantics (CVPR 2022)\n",
      "8x RTX TITAN workstation | I cannot wait to run some models on this beast !!!!\n",
      "Text2Live: Text driven neural image and video editing\n",
      "Fraudsters deepfake CEO's voice to trick manager into transferring $243,000\n",
      "How do you get \"really good\" ?\n",
      "3D Novel view synthesis using diffusion models\n",
      "We're building a labeling platform for image segmentation. Looking for feedback!\n",
      "ArcaneGAN: Face Portrait to Arcane Style\n",
      "I made a python package that lets you remotely monitor your deep learning model's training and validation metrics. If you like this project, consider giving it a ⭐ on github. Link's in the comments.\n",
      "Demonstrating American Sign Language Classification using Monk. Monk is an open-source low-code unified wrapper over major deep learning frameworks. Blog: http://bit.ly/sign_language_classification, Github: http://bit.ly/monk-github\n",
      "Personal GPT-3 project 🚀: Guess the movie! You can't recall the name of that movie you watched? You know what the movie's about but you just can't remember its name? I used the GPT-3 model to solve this problem! Just feed it a small description of the movie/tv show and it will do the rest.\n",
      "A neural network's internal weights adjusted to fit the training data (Implementation in pure Java)\n",
      "⭕ What People Are Missing About Microsoft’s $10B Investment In OpenAI\n",
      "Me and my “Process”\n",
      "I published my first ever paper on \"Detection and Blocking of DNS Tunnelled Packages with DeepLearning \". Source code in the comments. Fell free to ask me if something wasn't clear on paper or source\n",
      "When #DeepLearning learns #basketball 🏀\n",
      "Stable Diffusion + Dream Fusion + Text-to- Motion. This quick animation has been made with the AI-Game Dev platform I'm building. Next step is to integrate GPT3 for generating cool scripts. Seeking alpha testers.\n",
      "Generating Anime Images using PyTorch implementation of DCGAN\n",
      "[R] After 15 Long Years, a NumPy Paper Finally Appears!\n",
      "Neural Rendering: Reconstruct your city in 3D using only your mobile phone and CitySynth!\n",
      "The battle of the deep learning frameworks - Number of new GitHub stars in the last 100 days.\n",
      "Largest Covid-19 Korea Dataset with unparalleled patient details\n",
      "These plants do not exist - Created using StyleGAN 2\n",
      "Proud of this air cooled/3990x/2XA6000 Deep Learning build for my client! Let me know what you think!\n",
      "Introduction to Anomaly Detection with a Convolutional Auto-Encoder on Time Series transformed into Images\n",
      "Hey everyone! This is a project of mine that I have been working on. It is a video captioning project. This encoder decoder architecture is used to generate captions describing scene of a video at a particular event. Here is a demo of it working in real time. Check out my Github link below. Thanks!\n",
      "Which ones have you built?\n",
      "4x RTX 2080 Ti | Deep learning workstation, overheating issue fixed !!!!\n",
      "Deep learning-based Gaze detection model to control the mouse pointer of your computer\n"
     ]
    }
   ],
   "source": []
  }
 ],
 "metadata": {
  "kernelspec": {
   "display_name": "Python 3",
   "language": "python",
   "name": "python3"
  },
  "language_info": {
   "codemirror_mode": {
    "name": "ipython",
    "version": 3
   },
   "file_extension": ".py",
   "mimetype": "text/x-python",
   "name": "python",
   "nbconvert_exporter": "python",
   "pygments_lexer": "ipython3",
   "version": "3.10.13"
  }
 },
 "nbformat": 4,
 "nbformat_minor": 2
}
